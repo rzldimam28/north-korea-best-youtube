{
 "cells": [
  {
   "cell_type": "code",
   "execution_count": 1,
   "metadata": {},
   "outputs": [],
   "source": [
    "# libraries\n",
    "from bs4 import BeautifulSoup\n",
    "import requests\n",
    "import csv"
   ]
  },
  {
   "cell_type": "code",
   "execution_count": 2,
   "metadata": {},
   "outputs": [
    {
     "name": "stdout",
     "output_type": "stream",
     "text": [
      "200\n"
     ]
    }
   ],
   "source": [
    "# url inititiate\n",
    "url = 'https://socialblade.com/youtube/top/country/kr/mostsubscribed'\n",
    "page = requests.get(url, headers = {'User-Agent' : 'Mozilla/5.0 (Windows NT 10.0; Win64; x64) AppleWebKit/537.36 (KHTML, like Gecko) Chrome/85.0.4183.102 Safari/537.36'})\n",
    "'''\n",
    "    NOTE: The 'User-Agent' is used when the\n",
    "    status code is getting an error message\n",
    "    '''\n",
    "print(page.status_code) # continue if '200' is show"
   ]
  },
  {
   "cell_type": "code",
   "execution_count": 3,
   "metadata": {},
   "outputs": [],
   "source": [
    "soup = BeautifulSoup(page.text, 'html.parser')\n",
    "#print(soup.prettify()) # reviewing the whole html code"
   ]
  },
  {
   "cell_type": "code",
   "execution_count": 4,
   "metadata": {},
   "outputs": [],
   "source": [
    "tables = soup.find('div', {'style':\"float: right; width: 900px;\"})\n",
    "channels = tables.findAll('div', recursive=False)[4:14]\n",
    "#print(channels)"
   ]
  },
  {
   "cell_type": "code",
   "execution_count": null,
   "metadata": {},
   "outputs": [],
   "source": [
    "# Saving File\n",
    "file = open('korean-top-youtube.csv', 'w', newline=\"\", encoding='utf-8')\n",
    "writer = csv.writer(file)\n",
    "\n",
    "# set the CSV column names\n",
    "writer.writerow(['Akun Youtube', 'Jumlah Subscriber'])\n",
    "\n",
    "for columns in channels:\n",
    "    username = columns.find('a').text.strip()\n",
    "    #print(username)\n",
    "    sub = columns.find('div', {'style':\"float: left; width: 150px;\"}).text.strip()\n",
    "    #print(sub)\n",
    "    print(username + sub)\n",
    "    writer.writerow([username, sub])\n",
    "    \n",
    "file.close()"
   ]
  }
 ],
 "metadata": {
  "kernelspec": {
   "display_name": "Python 3.8.0 32-bit",
   "language": "python",
   "name": "python38032bitc5db090d80e4452f9633c34d15f3694d"
  },
  "language_info": {
   "codemirror_mode": {
    "name": "ipython",
    "version": 3
   },
   "file_extension": ".py",
   "mimetype": "text/x-python",
   "name": "python",
   "nbconvert_exporter": "python",
   "pygments_lexer": "ipython3",
   "version": "3.8.0"
  }
 },
 "nbformat": 4,
 "nbformat_minor": 4
}
